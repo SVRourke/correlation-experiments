{
 "cells": [
  {
   "cell_type": "markdown",
   "metadata": {},
   "source": [
    "# Correlations Between Stocks\n"
   ]
  },
  {
   "cell_type": "code",
   "execution_count": 26,
   "metadata": {},
   "outputs": [],
   "source": [
    "from lib.financial_methods import get_data\n",
    "from lib.plotting import plot_correlations\n",
    "from lib.correlation import get_correlations\n",
    "# from lib.plotting import save_correlation_plot\n",
    "\n",
    "from env import API_KEY \n",
    "\n",
    "# leader = get_data(API_KEY, 'ACN', '10/11/2019', '10/11/2021')\n",
    "# follower = get_data(API_KEY, 'AFRM', '10/11/2019', '10/11/2021')\n",
    "\n",
    "# records = get_correlations(leader, follower, 100)\n",
    "\n",
    "# plot_correlations(records)\n",
    "# max(records)"
   ]
  },
  {
   "cell_type": "markdown",
   "metadata": {},
   "source": [
    "## Config"
   ]
  },
  {
   "cell_type": "code",
   "execution_count": 27,
   "metadata": {},
   "outputs": [],
   "source": [
    "START_DATE = '10/11/2019'\n",
    "END_DATE = '10/11/2021'\n",
    "\n",
    "LAG = 100\n",
    "COEFFICIENT_THRESHOLD = 0.3\n",
    "\n",
    "GRAPH_DIR = 'graphs'\n",
    "\n",
    "# basic materials / industrials"
   ]
  },
  {
   "cell_type": "code",
   "execution_count": 35,
   "metadata": {},
   "outputs": [
    {
     "name": "stdout",
     "output_type": "stream",
     "text": [
      "CC-AXTA max: 0.4169354208248469 lag: 1-CC max: 0.4169354208248469 lag: 1-CC max: 0.45630953751071957 lag: 1\n",
      "CC-AXTA max: 0.4169354208248469 lag: 1-CC max: 0.4169354208248469 lag: 1-CC max: 0.3264009244809718 lag: 1\n",
      "CC-AXTA max: 0.4169354208248469 lag: 1-CC max: 0.4169354208248469 lag: 1-CC max: 0.31792781905808287 lag: 1\n",
      "CC-AXTA max: 0.4169354208248469 lag: 1-CC max: 0.4169354208248469 lag: 1-CC max: 0.42721875022373995 lag: 1\n",
      "CC-AXTA max: 0.4169354208248469 lag: 1-CC max: 0.4169354208248469 lag: 1-CC max: 0.38187303916209064 lag: 1\n",
      "CC-AXTA max: 0.4169354208248469 lag: 1-CC max: 0.4169354208248469 lag: 1-CC max: 0.3876833703916273 lag: 1\n",
      "CC-AXTA max: 0.4169354208248469 lag: 1-CC max: 0.4169354208248469 lag: 1-CC max: 0.33805266772293535 lag: 1\n",
      "CC-AXTA max: 0.4169354208248469 lag: 1-CC max: 0.4169354208248469 lag: 1-CC max: 0.43845694738775465 lag: 1\n",
      "CC-AXTA max: 0.4169354208248469 lag: 1-CC max: 0.4169354208248469 lag: 1-CC max: 0.3438745280475984 lag: 1\n",
      "CC-AXTA max: 0.4169354208248469 lag: 1-CC max: 0.4169354208248469 lag: 1-CC max: 0.3007143080181969 lag: 1\n",
      "CC-AXTA max: 0.4169354208248469 lag: 1-CC max: 0.4169354208248469 lag: 1-CC max: 0.3779323911050763 lag: 1\n",
      "CC-AXTA max: 0.4169354208248469 lag: 1-CC max: 0.4169354208248469 lag: 1-CC max: 0.35827360279419146 lag: 1\n",
      "CC-AXTA max: 0.4169354208248469 lag: 1-CC max: 0.4169354208248469 lag: 1-CC max: 0.3414786875357646 lag: 1\n",
      "CC-AXTA max: 0.4169354208248469 lag: 1-CC max: 0.4169354208248469 lag: 1-CC max: 0.30257506549729024 lag: 1\n"
     ]
    }
   ],
   "source": [
    "basic_materials_tickers = ['AA', 'ALTO', 'AMRS', 'ASIX', 'AUMN', 'AVD', 'AVNT', 'AVTR', 'AXTA', 'CC']\n",
    "industrials_tickers = ['AAL', 'AAN', 'ABM', 'ACCO', 'ACTG', 'ACY', 'ADES', 'ADT', 'AFI']\n",
    "# 1. Get Stocks from 2 industries.\n",
    "\n",
    "def get_multiple_tickers(tickers):\n",
    "    return {\n",
    "        i : get_data(API_KEY, i, START_DATE, END_DATE) for i in tickers\n",
    "    }\n",
    "\n",
    "\n",
    "def compare_stocks(leader_tickers, follower_tickers, max_lag, coefficient_threshold):\n",
    "    leader_data = get_multiple_tickers(leader_tickers)\n",
    "    follower_data = get_multiple_tickers(follower_tickers)\n",
    "\n",
    "    interesting_pairs = []\n",
    "\n",
    "    for leader in leader_tickers:\n",
    "        for follower in follower_tickers:\n",
    "            if leader != follower:\n",
    "                correlations = get_correlations(leader_data[leader], follower_data[follower], max_lag)\n",
    "                max_coefficient = max(correlations)\n",
    "\n",
    "                if max_coefficient > coefficient_threshold:\n",
    "                    interesting_pairs.append(f'{i}-{j} max: {max_coefficient} lag: {correlations.index(max_coefficient) + 1}')\n",
    "    return interesting_pairs\n",
    "\n",
    "check = compare_stocks(basic_materials_tickers, industrials_tickers, 20, .3)\n",
    "\n",
    "for i in check: print(i)"
   ]
  },
  {
   "cell_type": "code",
   "execution_count": null,
   "metadata": {},
   "outputs": [],
   "source": []
  }
 ],
 "metadata": {
  "interpreter": {
   "hash": "916dbcbb3f70747c44a77c7bcd40155683ae19c65e1c03b4aa3499c5328201f1"
  },
  "kernelspec": {
   "display_name": "Python 3.8.5 64-bit",
   "name": "python3"
  },
  "language_info": {
   "codemirror_mode": {
    "name": "ipython",
    "version": 3
   },
   "file_extension": ".py",
   "mimetype": "text/x-python",
   "name": "python",
   "nbconvert_exporter": "python",
   "pygments_lexer": "ipython3",
   "version": "3.8.10"
  },
  "orig_nbformat": 4
 },
 "nbformat": 4,
 "nbformat_minor": 2
}
